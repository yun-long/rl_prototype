{
 "cells": [
  {
   "cell_type": "markdown",
   "metadata": {},
   "source": [
    "### Different Divergence\n",
    "Let $\\chi$ be a compact metrix set (such as the space of image $[0, 1]^d$) and let $\\Sigma$ denote the set of all the Borel subsets of $\\chi$. Let $\\text{Prob}(\\chi)$ denote the space of probability measures defined on $\\chi$. We can now define elementary distances and divergences between two distributions $\\mathbb{P_r}$, $\\mathbb{P_{\\theta}} \\in \\text{Prob}(\\chi)$.\n",
    "\n",
    "> * The ***Total Variation (TV)*** distance\n",
    "$$\n",
    "\\delta(\\mathbb{P_r}, \\mathbb{P_{\\theta}}) = \\text{sup}_{A\\in \\Sigma} [\\mathbb{P_r}(A) - \\mathbb{P_{\\theta}}(A)]\n",
    "$$\n",
    "\n",
    "> * The ***Kullback-Leibler*** (KL) divergence\n",
    "$$\n",
    "KL(\\mathbb{P_r} || \\mathbb{P_{\\theta}}) = \\int P_r(x) \\log(\\frac{P_r(x)}{P_{\\theta}(x)}) d\\mu(x)\n",
    "$$\n",
    "The Kl divergence is assymetric and possibly infinite when there are points such that $P_g(x)=0$ and $P_r(x) > 0$\n",
    "\n",
    "> * The ***Jensen-Shannon*** (JS) divergence\n",
    "$$\n",
    "JS(\\mathbb{P_r}, \\mathbb{P_{\\theta}}) = KL(\\mathbb{P_r} || \\mathbb{P_m}) + KL(\\mathbb{P_{\\theta}} || \\mathbb{P_m})\n",
    "$$\n",
    "where $\\mathbb{P_m} = \\frac{\\mathbb{P_r} + \\mathbb{P_{\\theta}}}{2}$. The divergence is symmetrical and always defined because we choose $\\mu=\\mathbb{P}_m$.\n",
    "\n",
    "> * The ***Earth-Mover*** (EM) distance or ***Wasserstein-1***.\n",
    "\\begin{align}\n",
    "W(\\mathbb{P}_r, \\mathbb{P}_{\\theta}) &= \\inf_{\\gamma \\in \\Pi(\\mathbb{P}_r, \\mathbb{P}_{\\theta})} \\mathbb{E}_{(x,y) \\in \\gamma} [\\| x - y \\|] \\\\\n",
    "(Kantorovich-Rubinstein-duality) \\rightarrow\n",
    "&= \\text{sup}_{\\|f\\|_{L \\leq 1}} \\mathbb{E}_{x \\sim \\mathbb{P}_r}[f(x)] - \\mathbb{E}_{x \\sim \\mathbb{P}_{\\theta}}[f(x)] \\\\\n",
    "\\end{align}\n",
    "where the supremum is over all the 1-Lipschitz function $f: \\chi \\rightarrow \\mathbb{R}$."
   ]
  },
  {
   "cell_type": "markdown",
   "metadata": {},
   "source": [
    "### Example\n",
    "Suppose we have two probability distriutions, $P$ and $Q$:\n",
    "\\begin{align}\n",
    "\\forall (x, y) \\in P, x=0 \\quad \\text{and} \\quad y \\sim U(0, 1) \\\\\n",
    "\\forall(x, y) \\in Q, x=\\theta, 0 \\leq \\theta \\leq 1 \\quad \\text{and} \\quad y \\sim U(0, 1)\n",
    "\\end{align}"
   ]
  },
  {
   "cell_type": "code",
   "execution_count": 11,
   "metadata": {},
   "outputs": [
    {
     "data": {
      "text/plain": [
       "<matplotlib.legend.Legend at 0x110f02e48>"
      ]
     },
     "execution_count": 11,
     "metadata": {},
     "output_type": "execute_result"
    },
    {
     "data": {
      "image/png": "[encoded data removed]",
      "text/plain": [
       "<matplotlib.figure.Figure at 0x110f02940>"
      ]
     },
     "metadata": {},
     "output_type": "display_data"
    }
   ],
   "source": [
    "%matplotlib inline\n",
    "import numpy as np\n",
    "import matplotlib.pyplot as plt\n",
    "plt.style.use('ggplot')\n",
    "x = 0 \n",
    "theta = 0.4\n",
    "y = 1\n",
    "fig, ax = plt.subplots(1, figsize=(10,5))\n",
    "ax.bar(x, y, width=0.01, label=r'$P(0, y)$')\n",
    "ax.bar(theta, y, width=0.01, label=r'$Q(\\theta, y)$')\n",
    "ax.set_xlim(-0.1, 1)\n",
    "ax.set_ylim(0, 1)\n",
    "ax.legend()"
   ]
  },
  {
   "cell_type": "markdown",
   "metadata": {},
   "source": [
    "When $\\theta \\neq 0$:\n",
    "\\begin{align}\n",
    "D_{KL}(P||Q) &= \\sum_{x=0, y \\sim U(0, 1)} 1 * \\log \\frac{1}{0} = + \\infty \\\\\n",
    "D_{KL}(Q||P) &= \\sum_{x=\\theta, y \\sim U(0, 1)} 1 * \\log \\frac{1}{0} = + \\infty \\\\\n",
    "D_{JS}(P, Q) &= \\frac{1}{2}(\\sum_{x=0, y \\sim U(0, 1)} 1 * \\log \\frac{1}{1/2} +\\sum_{x=\\theta, y \\sim U(0, 1)} 1 * \\log \\frac{1}{1/2}) = \\frac{1}{2} \\\\\n",
    "W(P, Q) &= |\\theta | \n",
    "\\end{align}\n",
    "When $\\theta = 0$:\n",
    "\\begin{align}\n",
    "D_{KL}(P||Q) &= 0 \\\\\n",
    "D_{KL}(Q||P) &= 0 \\\\\n",
    "D_{JS}(P, Q) &= 0 \\\\\n",
    "W(P, Q) &= 0\n",
    "\\end{align}"
   ]
  },
  {
   "cell_type": "code",
   "execution_count": null,
   "metadata": {},
   "outputs": [],
   "source": []
  }
 ],
 "metadata": {
  "kernelspec": {
   "display_name": "Python 3",
   "language": "python",
   "name": "python3"
  },
  "language_info": {
   "codemirror_mode": {
    "name": "ipython",
    "version": 3
   },
   "file_extension": ".py",
   "mimetype": "text/x-python",
   "name": "python",
   "nbconvert_exporter": "python",
   "pygments_lexer": "ipython3",
   "version": "3.5.2"
  }
 },
 "nbformat": 4,
 "nbformat_minor": 2
}
