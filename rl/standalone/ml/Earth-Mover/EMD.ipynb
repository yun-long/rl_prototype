{
 "cells": [
  {
   "cell_type": "markdown",
   "metadata": {},
   "source": [
    "### Optimal Transport (OT) problem\n",
    "One way to understand the motivation of Wasserstein distance or Earth Mover's distance is to condsider the optimal transport problem. That is, for a distribution of mass $\\mu(x)$ on a space $X$, we wish to transport the mass in such a way that it is transformed into the distribution $v(x)$ on the same space. Transoforming the 'pile of earth' $\\mu$ to the pile $v$. This problem only makes sense if the pile to be created has the same mass as the pile to be moved; therefore without loss of generality assume that $\\mu$ and $v$ are probability distributions containing a total mass of 1. Assume also that this is given some cost function,\n",
    "$$\n",
    "c(x,y) \\rightarrow [0, \\infty)\n",
    "$$\n",
    "that gives the cost of transporting a unit mass from the $x$ to the point $y$.\n",
    "\n",
    "From [Wasserstein metric](https://en.wikipedia.org/wiki/Wasserstein_metric)"
   ]
  },
  {
   "cell_type": "markdown",
   "metadata": {},
   "source": [
    "### Earth Mover's Distance ([EMD](https://vincentherrmann.github.io/blog/wasserstein/))\n",
    "By definition, the Earth Mover's distance is defined as: \n",
    "$$\n",
    "\\text{EMD}(P_r, P_{\\theta}) = \\inf_{\\gamma \\in \\Pi} \\sum_{x,y} \\| x - y \\| \\gamma(x,y) =  \\inf_{\\gamma \\in \\Pi} \\mathbb{E}_{(x,y) \\sim \\gamma} \\|x-y\\|\n",
    "$$\n",
    "where $P_r$ and $P_{\\theta}$ are two different distributions, each with $l$ possible states $x$ and $y$ respectively. $\\gamma$ is called a joined probability distribution and require that $\\gamma \\in \\Pi(P_r, P_{\\theta})$, and $\\Pi(P_r, P_{\\theta})$ is the set of all distributions whose marginals are $P_r$ or $P_{\\theta}$ respectively. To get the Earth Mover's Distance, we have to multiply every value of $\\gamma$ with the Euclidian distance between $x$ and $y$, and then take the $\\inf$, aka infimum, of the expections.\n",
    "\n",
    "To be valid, there two constrains must be satified.\n",
    "\\begin{align}\n",
    "\\sum_x \\gamma(x,y) = P_r(y)\\\\\n",
    "\\sum_y \\gamma(x,y) = P_{\\theta}(x)\n",
    "\\end{align}\n",
    "\n",
    "We can also set $\\boldsymbol{\\Gamma}=\\gamma(x.y)$ and $\\boldsymbol{D} = \\| x - y\\|$, with $\\boldsymbol{\\Gamma, D} \\in \\mathbb{R}^{lxl}$.\n",
    "$$\n",
    "\\text{EMD}(P_r, P_{\\theta}) = \\inf_{\\gamma \\in \\Pi} <\\boldsymbol{\\Gamma, D}>_F\n",
    "$$\n",
    "where $<,>_F$ is the Frobenius inner product (sum of all element-wise products).We can consider the $\\text{EMD}(P_r, P_{\\theta})$ as a kind of cost function such that the goal is to minimize the cost function in OT problem. \n"
   ]
  },
  {
   "cell_type": "code",
   "execution_count": 9,
   "metadata": {},
   "outputs": [
    {
     "data": {
      "text/plain": [
       "<matplotlib.legend.Legend at 0x11a160d30>"
      ]
     },
     "execution_count": 9,
     "metadata": {},
     "output_type": "execute_result"
    },
    {
     "data": {
      "image/png": "[encoded data removed]",
      "text/plain": [
       "<matplotlib.figure.Figure at 0x10f7e09e8>"
      ]
     },
     "metadata": {},
     "output_type": "display_data"
    }
   ],
   "source": [
    "%matplotlib inline\n",
    "import numpy as np\n",
    "import matplotlib.pyplot as plt\n",
    "l = 10\n",
    "Pr = np.array([12, 7,  4,  1, 19, 14, 9, 6, 3, 2]) \n",
    "Pt = np.array([ 1, 5, 11, 17, 13,  9, 6, 4, 3, 2 ])\n",
    "# l = 2\n",
    "# Pr = np.array([10, 1])\n",
    "# Pt = np.array([1, 10])\n",
    "Pr = Pr / np.sum(Pr)\n",
    "Pt = Pt / np.sum(Pt)\n",
    "#\n",
    "fig, axes = plt.subplots(1, 2, figsize=(20, 5))\n",
    "axes[0].bar(range(l), Pr, 1, color='green', alpha=1., label='Pr')\n",
    "axes[0].legend()\n",
    "#\n",
    "axes[1].bar(range(l), Pt, 1, color='red', alpha=1., label='Pt')\n",
    "axes[1].legend()"
   ]
  },
  {
   "cell_type": "markdown",
   "metadata": {},
   "source": [
    "### Linear Programming\n",
    "The $\\boldsymbol{\\Gamma}$ is called optimal transport plan. Once we find the minimum cost of the cost function, the corresponding value in $\\boldsymbol{\\Gamma}$ is optimal. How do we calculate it? It can be calculated using the generic method of Linear Programming (LP). \n",
    "\n",
    "Linear Programs are problems that can be expressed in canonical form as,\n",
    "\\begin{align}\n",
    "&\\text{minimize}& \\quad \\boldsymbol{c^Tx} \\\\\n",
    "&\\text{subject to}& \\quad \\boldsymbol{Ax = b} \\\\\n",
    "&& \\quad \\boldsymbol{x >= 0}\n",
    "\\end{align}\n",
    "whre $\\boldsymbol{x}$ represents the vector of variables (to be calculated), $\\boldsymbol{c}$ and $\\boldsymbol{b}$ are vectors of (known) coefficients.\n",
    "\n",
    "We formulate our problem as a linear program as:\n",
    "\\begin{align}\n",
    "&\\text{minimize}& \\quad z = \\boldsymbol{c^Tx} \\rightarrow z = \\inf_{\\gamma \\in \\Pi} <\\boldsymbol{\\Gamma, D}>_F \\\\\n",
    "&\\text{subject to}& \\quad \\boldsymbol{Ax = b}  \\rightarrow \\sum_y \\gamma(x,y) = P_{\\theta}(x) \\\\\n",
    "&& \\quad \\text{and} \\quad \\sum_x \\gamma(x,y) = P_r(y)\\\\\n",
    "&& \\quad \\boldsymbol{x >0 \\rightarrow vec(\\boldsymbol{\\Gamma}) >= 0}\n",
    "\\end{align}\n",
    "\n",
    "Therefore, \n",
    "\\begin{align}\n",
    "&\\boldsymbol{x} = \\text{vector}(\\boldsymbol{\\Gamma}) \\\\\n",
    "&\\boldsymbol{c} = \\text{vector}(\\boldsymbol{D}) \\\\\n",
    "&\\boldsymbol{b} = \\begin{bmatrix} P_r \\\\ P_{\\theta}    \\end{bmatrix}\n",
    "\\end{align}"
   ]
  },
  {
   "cell_type": "code",
   "execution_count": 10,
   "metadata": {},
   "outputs": [
    {
     "name": "stdout",
     "output_type": "stream",
     "text": [
      "[[10. 10. 10. ...  0.  0.  0.]\n",
      " [ 0.  0.  0. ...  0.  0.  0.]\n",
      " [ 0.  0.  0. ...  0.  0.  0.]\n",
      " ...\n",
      " [ 0.  0.  0. ... 10.  0.  0.]\n",
      " [ 0.  0.  0. ...  0. 10.  0.]\n",
      " [ 0.  0.  0. ...  0.  0. 10.]]\n"
     ]
    }
   ],
   "source": [
    "D = np.ndarray(shape=(l, l))\n",
    "for i in range(l):\n",
    "    for j in range(l):\n",
    "        D[i, j] = abs(range(l)[i] - range(l)[j])\n",
    "Ar = np.zeros(shape=(l, l, l))\n",
    "At = np.zeros(shape=(l, l, l))\n",
    "for i in range(l):\n",
    "    for j in range(l):\n",
    "        Ar[i, i, j] = l\n",
    "        At[i, j, i] = l\n",
    "A = np.concatenate((Ar.reshape((l, l**2)), At.reshape((l, l**2))), axis=0)\n",
    "print(A)\n",
    "b = np.concatenate((Pr, Pt), axis=0)\n",
    "c = D.reshape((l**2))"
   ]
  },
  {
   "cell_type": "code",
   "execution_count": 11,
   "metadata": {},
   "outputs": [
    {
     "name": "stdout",
     "output_type": "stream",
     "text": [
      "EMD:  0.07062374245472824 \n",
      "\n",
      "0.001     0.000     0.008     0.006     0.000     0.000     0.000     0.000     0.000     0.000     \n",
      "\n",
      "0.000     0.007     0.002     0.000     0.000     0.000     0.000     0.000     0.000     0.000     \n",
      "\n",
      "0.000     0.000     0.005     0.000     0.000     0.000     0.000     0.000     0.000     0.000     \n",
      "\n",
      "0.000     0.000     0.000     0.001     0.000     0.000     0.000     0.000     0.000     0.000     \n",
      "\n",
      "0.000     0.000     0.000     0.006     0.018     0.000     0.000     0.000     0.000     0.000     \n",
      "\n",
      "0.000     0.000     0.000     0.010     0.000     0.008     0.000     0.000     0.000     0.000     \n",
      "\n",
      "0.000     0.000     0.000     0.000     0.000     0.003     0.008     0.000     0.000     0.000     \n",
      "\n",
      "0.000     0.000     0.000     0.000     0.000     0.002     0.000     0.006     0.000     0.000     \n",
      "\n",
      "0.000     0.000     0.000     0.000     0.000     0.000     0.000     0.000     0.004     0.000     \n",
      "\n",
      "0.000     0.000     0.000     0.000     0.000     0.000     0.000     0.000     0.000     0.003     \n",
      "\n"
     ]
    },
    {
     "data": {
      "text/plain": [
       "<matplotlib.colorbar.Colorbar at 0x11a3349b0>"
      ]
     },
     "execution_count": 11,
     "metadata": {},
     "output_type": "execute_result"
    },
    {
     "data": {
      "image/png": "[encoded data removed]",
      "text/plain": [
       "<matplotlib.figure.Figure at 0x11a010518>"
      ]
     },
     "metadata": {},
     "output_type": "display_data"
    }
   ],
   "source": [
    "from scipy.optimize import linprog\n",
    "from mpl_toolkits.axes_grid1 import make_axes_locatable\n",
    "from matplotlib import cm\n",
    "\n",
    "opt_res = linprog(c, A_eq=A, b_eq=b, bounds=[0, None])\n",
    "emd = opt_res.fun\n",
    "gamma = opt_res.x.reshape((l, l))\n",
    "print(\"EMD: \", emd, \"\\n\")\n",
    "for i_l in range(l):\n",
    "    for j_l in range(l):\n",
    "        print(\"{0:.3f}\".format(gamma[i_l][j_l]), end='     ')\n",
    "    print('\\n')\n",
    "    \n",
    "\n",
    "fig, (ax1, ax2) = plt.subplots(1,2,figsize=(20,5))\n",
    "surf1 = ax1.imshow(gamma, cmap=cm.gist_heat, interpolation='nearest')\n",
    "ax1.axis('off')\n",
    "ax1.set_title(\"Optimal Transport Plan $\\gamma(x,y)$\")\n",
    "divider = make_axes_locatable(ax1)\n",
    "cax = divider.append_axes('right', size='5%', pad=0.05)\n",
    "fig.colorbar(surf1, cax=cax)\n",
    "#\n",
    "surf2 = ax2.imshow(D, cmap=cm.gist_heat, interpolation='nearest')\n",
    "ax2.set_title(\"Distance\")\n",
    "divider = make_axes_locatable(ax2)\n",
    "cax = divider.append_axes('right', size='5%', pad=0.05)\n",
    "ax2.axis('off')\n",
    "fig.colorbar(surf2, cax=cax)\n"
   ]
  },
  {
   "cell_type": "markdown",
   "metadata": {},
   "source": [
    "### Dual Implementation\n",
    "However, in practice, this kind of optimization is not practical in many cases, certainly not in domains where deep reinforcement learning are used. Because the $\\gamma$ is scales exponentially with the number of dimensions of the input variable. But actually we don't care about the transport plan $\\gamma$ or $\\Gamma$. We only need the distance between two distributions, a single number, the EMD. For example, we plugin the EMD into the objective function of PPO (Proximal Policy Optimization) method, we should have,\n",
    "\n",
    "$$\n",
    "\\text{maximize}\\mathbb{E}[\\frac{\\pi_{\\theta}(a_t | s_t)}{\\pi_{\\theta_{old}}(a_t|s_t)}A_t - \\beta \\text{KL}(\\pi_{\\theta_{old}}, \\pi_{\\theta})] \\rightarrow \\text{maximize}\\mathbb{E}[\\frac{\\pi_{\\theta}(a_t | s_t)}{\\pi_{\\theta_{old}}(a_t|s_t)}A_t - \\beta \\text{EMD}(\\pi_{\\theta_{old}}, \\pi_{\\theta})]\n",
    "$$\n",
    "\n",
    "The question now comes down to how can we find the $\\text{EMD}(\\pi_{\\theta_{old}}, \\pi_{\\theta})$"
   ]
  },
  {
   "cell_type": "markdown",
   "metadata": {},
   "source": [
    "#### Side Note: Lagrangian\n",
    "**1. Standard form problem** (not necessarily convex)\n",
    "\\begin{align}\n",
    "\\text{minimize}& \\quad f_0(x)\\\\\n",
    "\\text{subject to}& \\quad f_i(x) \\leq 0, \\quad i = 1, ..., m \\\\\n",
    "& \\quad h_i(x) = 0, \\quad i = 1, ..., p\n",
    "\\end{align}\n",
    "variable $x\\in \\boldsymbol{R}^n$, domain $D$, optimal value $p^{\\ast}$\n",
    "\n",
    "**Lagrangian**: $L: \\boldsymbol{R^n \\times R^m \\times R^p} \\rightarrow \\boldsymbol{R}$, with $\\text{dom}L= D \\times \\boldsymbol{R}^m \\times \\boldsymbol{R}^p$.\n",
    "\\begin{align}\n",
    "L(x, \\lambda, v) = f_0(x) + \\sum_{i=1}^{m}\\lambda_i f_i(x) + \\sum_{i}^{p}v_i h_i(x)\n",
    "\\end{align}\n",
    "> * weighted sum of objective and constraint functions\n",
    "* $\\lambda_i$ is Lagrange multiplier associated with $f_i(x) \\leq 0$\n",
    "* $v_i$ is Lagrange multiplier associated with $h_i(x) = 0$\n",
    "\n",
    "**2. Standard form Linear Programming (LP)**\n",
    "\\begin{align}\n",
    "\\text{minimize}& \\quad c^Tx \\\\\n",
    "\\text{subject to}& \\quad Ax = b, \\\\\n",
    "& x \\geq 0\n",
    "\\end{align}\n",
    "**dual function**\n",
    "> * Lagrangian is \n",
    "\\begin{align}\n",
    "L(x, \\lambda, v) &= c^Tx + v^T(Ax-b) - \\lambda^Tx \\\\\n",
    "&= -b^Tv + (c + A^Tv - \\lambda)^T x\n",
    "\\end{align}\n",
    "* L is affine in $x$, hence\n",
    "\\begin{align}\n",
    "g(\\lambda, v) = \\inf_x L(x, \\lambda, v) =& -b^Tv \\quad A^Tv -\\lambda + c = 0 \\\\\n",
    "& -\\infty \\quad \\text{otherwise}\n",
    "\\end{align}\n",
    "g is linear on affine domain ${(\\lambda, v)|A^Tv - \\lambda + c = 0}$, hence $g(\\lambda, v)$ is concave\n",
    "\n",
    "**lower bound property: **$p^{\\ast} \\geq -b^Tv$ if $A^Tv + c \\geq 0$"
   ]
  },
  {
   "cell_type": "markdown",
   "metadata": {},
   "source": [
    "### Dual Implementation\n",
    "Now, we can confidently use the dual form to calculate the EMD. As we showed, the maximual value $g(\\lambda, v)=-b^T v$ is the EMD. We can define,\n",
    "$$\n",
    "\\boldsymbol{v} = [\\boldsymbol{f}, \\boldsymbol{g}]^T\n",
    "$$\n",
    "with $\\boldsymbol{f}$, $\\boldsymbol{g} \\in \\mathbb{R}^d$. This means \n",
    "\\begin{align}\n",
    "& EMD(P_r, P_{\\theta}) = \\text{max} g(\\lambda, v) = - (\\boldsymbol{f}^T P_r + \\boldsymbol{g}^T P_{\\theta}) \\\\\n",
    "\\text{subject to} \\quad & A^T v + c \\geq 0\n",
    "\\end{align}\n",
    "\n",
    "Somehow, with Lipschitz continuity (with Lipschitz constant 1) and write $\\| f\\|_{L \\leq 1}$. our dual form of the EMD is \n",
    "\\begin{align}\n",
    "\\text{EMD}(P_r, P_{\\theta}) = \\text{sup}_{\\| f\\|_{L\\leq1}} \\mathbb{E}_{x \\sim P_r}f(x) - E_{x \\sim P_{\\theta}} f(x)\n",
    "\\end{align}"
   ]
  },
  {
   "cell_type": "markdown",
   "metadata": {},
   "source": [
    "### Wasserstein Distance\n",
    "Lastly, we have to consider continuous probability distribution. We can of cause view them intuitively as discrete distributions with infinitely many states and ues a similar reasoning as described so far. However, we will try something else. Let our continuous distributions be $p_r$ and $p_{\\theta}$, and the set of joined distribution with marginals $p_r$ and $p_{\\theta}$ be $\\pi(p_r, p_{\\theta})$. Then the wasserstein distance is defined as,\n",
    "\\begin{align}\n",
    "W(p_r, p_{\\theta}) &= \\inf_{\\gamma \\in \\pi} \\int_x \\int_y \\|x-y\\| \\gamma(x,y) dx dy \\\\\n",
    "&= \\inf_{\\gamma \\in \\pi} \\mathbb{E}_{x,y \\sim \\gamma} [\\| x-y \\|]\n",
    "\\end{align}\n",
    "\n",
    "A result from [Kantorovich-Rubinstein Duality](https://en.wikipedia.org/wiki/Wasserstein_metric#Dual_representation_of_W1) shows $W$ is quivalent to \n",
    "\\begin{align}\n",
    "W(p_r, p_{\\theta}) = \\sup_{\\| f\\|_{L \\leq 1}} \\mathbb{E}_{x \\sim p_r}[f(x)] - \\mathbb{E}_{x \\sim p_{\\theta}}[f(x)]\n",
    "\\end{align}\n",
    "where the supremum is taken over all 1-Lipschit functions."
   ]
  },
  {
   "cell_type": "code",
   "execution_count": 13,
   "metadata": {},
   "outputs": [
    {
     "name": "stdout",
     "output_type": "stream",
     "text": [
      "dual EMD:  0.07062374245472847\n",
      "[ 0.1  0.  -0.1 -0.2 -0.1  0.   0.1  0.2  0.1  0. ]\n",
      "[-0.1  0.   0.1  0.2  0.1  0.  -0.1 -0.2 -0.1  0. ]\n"
     ]
    },
    {
     "data": {
      "text/plain": [
       "[<matplotlib.lines.Line2D at 0x11a92e898>]"
      ]
     },
     "execution_count": 13,
     "metadata": {},
     "output_type": "execute_result"
    },
    {
     "data": {
      "image/png": "[encoded data removed]",
      "text/plain": [
       "<matplotlib.figure.Figure at 0x11a395860>"
      ]
     },
     "metadata": {},
     "output_type": "display_data"
    }
   ],
   "source": [
    "opt_res = linprog(-b, A.T, c, bounds=(None, None))\n",
    "\n",
    "emd = -opt_res.fun\n",
    "f = opt_res.x[0:l]\n",
    "g = opt_res.x[l:]\n",
    "print(\"dual EMD: \", emd)\n",
    "\n",
    "fig, (ax1, ax2) = plt.subplots(1, 2, figsize= (15, 5))\n",
    "print(f)\n",
    "print(g)\n",
    "ax1.plot(range(l), f)\n",
    "ax2.plot(range(l), g)"
   ]
  },
  {
   "cell_type": "markdown",
   "metadata": {},
   "source": [
    "### Connecting with Reinforcement Learning. \n",
    "\n",
    "**PPO(Proximal Policy Optimization)**\n",
    "\n",
    "Objection function:\n",
    "$$\n",
    "\\underset{x} {\\text{maximize}} \\quad \\mathbb{E}[\\frac{\\pi_{\\theta}(a_t | s_t)}{\\pi_{\\theta_{old}}(a_t|s_t)}A_t - \\beta \\text{KL}(\\pi_{\\theta_{old}}, \\pi_{\\theta})] \n",
    "$$\n",
    "\n",
    "\\begin{align}\n",
    "\\underset{x} {\\text{maximize}} & \\quad \\mathbb{E}[\\frac{\\pi_{\\theta}(a_t | s_t)} {\\pi_{\\theta_{old}} (a_t|s_t)}A_t - \\beta W(\\pi_{\\theta_{old}}, \\pi_{\\theta})] \\\\\n",
    "& = \\mathbb{E}[\\frac{\\pi_{\\theta}(a_t | s_t)} {\\pi_{\\theta_{old}} (a_t|s_t)}A_t + \\beta (\\sup_{\\| f\\|_{L \\leq 1}} \\mathbb{E}_{x \\sim p_r}[f(x)] - \\mathbb{E}_{x \\sim p_{\\theta}}[f(x)] )\n",
    "\\end{align}"
   ]
  },
  {
   "cell_type": "code",
   "execution_count": null,
   "metadata": {},
   "outputs": [],
   "source": []
  }
 ],
 "metadata": {
  "kernelspec": {
   "display_name": "Python 3",
   "language": "python",
   "name": "python3"
  },
  "language_info": {
   "codemirror_mode": {
    "name": "ipython",
    "version": 3
   },
   "file_extension": ".py",
   "mimetype": "text/x-python",
   "name": "python",
   "nbconvert_exporter": "python",
   "pygments_lexer": "ipython3",
   "version": "3.5.2"
  }
 },
 "nbformat": 4,
 "nbformat_minor": 2
}
