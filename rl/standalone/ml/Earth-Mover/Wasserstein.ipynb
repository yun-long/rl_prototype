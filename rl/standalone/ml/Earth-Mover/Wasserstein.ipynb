{
 "cells": [
  {
   "cell_type": "markdown",
   "metadata": {},
   "source": [
    "### Wasserstein Metric \n",
    "Let our continuous distributions be $p_r$ and $p_{\\theta}$, and the set of joined distribution with marginals $p_r$ and $p_{\\theta}$ be $\\pi(p_r, p_{\\theta})$. Then the wasserstein distance is defined as,\n",
    "\\begin{align}\n",
    "W(p_r, p_{\\theta}) &= \\inf_{\\gamma \\in \\pi} \\int_x \\int_y \\|x-y\\| \\gamma(x,y) dx dy \\\\\n",
    "&= \\inf_{\\gamma \\in \\pi} \\mathbb{E}_{x,y \\sim \\gamma} [\\| x-y \\|]\n",
    "\\end{align}\n",
    "\n",
    "A result from [Kantorovich-Rubinstein Duality](https://en.wikipedia.org/wiki/Wasserstein_metric#Dual_representation_of_W1) shows $W$ is quivalent to \n",
    "\\begin{align}\n",
    "W(p_r, p_{\\theta}) = \\sup_{\\| f\\|_{L \\leq 1}} \\mathbb{E}_{x \\sim p_r}[f(x)] - \\mathbb{E}_{x \\sim p_{\\theta}}[f(x)]\n",
    "\\end{align}\n",
    "where the supremum is taken over all 1-Lipschit functions."
   ]
  },
  {
   "cell_type": "markdown",
   "metadata": {},
   "source": [
    "#### 1. Normal distributions\n",
    "Let $p_1 = \\mathcal{N}(\\mu_1, \\Sigma_1)$ and $p_2 = \\mathcal{N}(\\mu_2, \\Sigma_2)$  be two normal distributions on  $\\mathbb{R}^{n}$, with respective expected values $\\mu_{1}$ and $\\mu_{2} \\in \\mathbb{R}^{n}$ and symmetric positive semi-definite covariance matrices $\\Sigma_{1}$ and $\\Sigma_{2} \\in \\mathbb{R}^{n\\times n}$. Then, with respect to the usual Euclidean norm on $\\mathbb{R}^n$, the 2-Wasserstein distance between $p_1$ and $p_2$ is,\n",
    "$$\n",
    "W_2(p_1, p_2)^2 = \\|| \\mu_1 - \\mu_2 \\||^2_2 + \\text{trace}(\\Sigma_1 + \\Sigma_2 - 2(\\Sigma_2^{1/2}\\Sigma_1\\Sigma_2^{1/2})^{1/2})\n",
    "$$"
   ]
  },
  {
   "cell_type": "code",
   "execution_count": 19,
   "metadata": {},
   "outputs": [
    {
     "name": "stdout",
     "output_type": "stream",
     "text": [
      "100.0\n"
     ]
    },
    {
     "data": {
      "image/png": "[encoded data removed]",
      "text/plain": [
       "<matplotlib.figure.Figure at 0x11b7cfef0>"
      ]
     },
     "metadata": {},
     "output_type": "display_data"
    }
   ],
   "source": [
    "%matplotlib inline\n",
    "import numpy as np\n",
    "import matplotlib.pyplot as plt\n",
    "from scipy.stats import norm\n",
    "#\n",
    "xrange = np.arange(-10, 10, 0.01)\n",
    "mu1 = 10\n",
    "mu2 = 0\n",
    "sigma1 = 1\n",
    "sigma2 = 1\n",
    "p  = lambda x : norm.pdf(x, mu1, sigma1)\n",
    "q  = lambda x : norm.pdf(x, mu2, sigma2)\n",
    "fig, ax = plt.subplots(1)\n",
    "ax.plot(xrange, p(xrange), label='p')\n",
    "ax.plot(xrange, q(xrange), label='q')\n",
    "ax.legend()\n",
    "\n",
    "def wasserstein_distance(mu1, mu2, sigma1, sigma2):\n",
    "    w2 = np.square(mu1-mu2) + (sigma1 + sigma2 - 2 * np.sqrt(np.sqrt(sigma2) *  sigma2 * np.sqrt(sigma2)))\n",
    "    return w2\n",
    "print(wasserstein_distance(mu1, mu2, sigma1, sigma2))"
   ]
  }
 ],
 "metadata": {
  "kernelspec": {
   "display_name": "Python 3",
   "language": "python",
   "name": "python3"
  },
  "language_info": {
   "codemirror_mode": {
    "name": "ipython",
    "version": 3
   },
   "file_extension": ".py",
   "mimetype": "text/x-python",
   "name": "python",
   "nbconvert_exporter": "python",
   "pygments_lexer": "ipython3",
   "version": "3.5.2"
  }
 },
 "nbformat": 4,
 "nbformat_minor": 2
}
