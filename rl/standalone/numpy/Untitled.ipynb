{
 "cells": [
  {
   "cell_type": "markdown",
   "metadata": {},
   "source": [
    "### Interior Point Methods\n",
    "\n",
    "> * Nonlinear Constrained Optimization\n",
    "* Slack variables\n",
    "* Barrier function\n",
    "* Newton's method for KKT conditions\n",
    "* Interior Point Method (IPM)\n",
    "* Examples\n"
   ]
  },
  {
   "cell_type": "markdown",
   "metadata": {},
   "source": [
    "#### Nonlinear Constrained Optimization\n",
    "\n",
    "\\begin{align}\n",
    "\\min \\quad & f(x) \\\\\n",
    "\\text{s.t.} \\quad & g(x) \\geq b \\\\\n",
    "& h(x) = 0\n",
    "\\end{align}\n",
    "\n",
    "> * Linear, quadratic, or general nonlinear objective and constraints\n",
    "* Convex optimization, local solution possible for non-convex problems"
   ]
  },
  {
   "cell_type": "markdown",
   "metadata": {},
   "source": [
    "#### Slack Variables\n",
    "\n",
    "\\begin{align}\n",
    "\\min \\quad & f(x) \\\\\n",
    "\\text{s.t.} \\quad & c(x) = 0 \\\\\n",
    "& x \\geq 0\n",
    "\\end{align}"
   ]
  },
  {
   "cell_type": "markdown",
   "metadata": {},
   "source": [
    "#### Barrier function\n",
    "\n",
    "\\begin{align}\n",
    "\\min \\quad & f(x) - \\mu \\sum_{i=1}^{n} \\ln(x_i) \\\\\n",
    "\\text{s.t.} \\quad & c(x) = 0 \\\\\n",
    "\\end{align}"
   ]
  },
  {
   "cell_type": "code",
   "execution_count": null,
   "metadata": {},
   "outputs": [],
   "source": []
  }
 ],
 "metadata": {
  "kernelspec": {
   "display_name": "Python 3",
   "language": "python",
   "name": "python3"
  },
  "language_info": {
   "codemirror_mode": {
    "name": "ipython",
    "version": 3
   },
   "file_extension": ".py",
   "mimetype": "text/x-python",
   "name": "python",
   "nbconvert_exporter": "python",
   "pygments_lexer": "ipython3",
   "version": "3.6.3"
  }
 },
 "nbformat": 4,
 "nbformat_minor": 2
}
