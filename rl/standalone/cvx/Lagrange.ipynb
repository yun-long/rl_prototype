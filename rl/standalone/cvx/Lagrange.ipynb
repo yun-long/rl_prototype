{
 "cells": [
  {
   "cell_type": "markdown",
   "metadata": {},
   "source": [
    "# Lagrange\n",
    "\n",
    "**standard form problem** (not necessarily convex)\n",
    "\n",
    "\\begin{align}\n",
    "\\text{minimize} \\quad &&& f_0 (x) \\\\\n",
    "\\text{subject to} \\quad &&& f_i(x) \\leq 0, \\quad i=1,\\dot,...,m \\\\\n",
    "&&& h_i(x) = 0, \\quad i=1,..., p\n",
    "\\end{align}\n",
    "variable $x\\in \\boldsymbol{R}^n$, domain $D$, optimal value $p^{\\star}$\n",
    "\n",
    "**Lagrangian:L:**  $\\boldsymbol{R}^n \\times \\boldsymbol{R}^m \\times \\boldsymbol{R}^p \\rightarrow \\boldsymbol{R}$, with $\\text{dom}L = D \\times \\boldsymbol{R}^m x \\boldsymbol{R}^p$,\n",
    "\n",
    "$$\n",
    "L(x, \\lambda, v) = f_0(x) + \\sum_{i=1}^{m}\\lambda_i f_i(x) + \\sum_{i=1}^{p}v_i h_i(x)\n",
    "$$\n",
    "\n",
    "> * weighted sum of  objective and constraint functions\n",
    "* $\\lambda_i$ is Lagrange multiplier associated with $f_i(x) \\leq 0$\n",
    "* $v_i$ is Lagrange multiplier associated with $h_i(x) = 0$\n",
    "\n",
    "# Lagrange dual function\n",
    "\n",
    "**Lagrange dual function:** $g: \\boldsymbol{R}^m \\times \\boldsymbol{R}^p \\rightarrow \\boldsymbol{R}$,\n",
    "\n",
    "\\begin{align}\n",
    "g(\\lambda, v) &&=& \\inf_{x\\in D} L(x, \\lambda, v) \\\\\n",
    "&&=&  \\inf_{x \\in D} \\left(f_0(x) + \\sum_{i=1}^{m}\\lambda_i f_i(x) + \\sum_{i=1}^{p}v_i h_i(x)\\right)\n",
    "\\end{align}\n",
    "\n",
    "$g$ is concave, can be $-\\infty$ for some $\\lambda, v$\n",
    "\n",
    "**lower bound property:** if $\\lambda \\geq 0$, then $g(\\lambda, v) \\leq p^{\\star}$ \n",
    "\n",
    "proof: if $\\tilde{x}$ is feasible and $\\lambda \\geq 0$, then,\n",
    "\n",
    "$$\n",
    "f_0(\\tilde{x}) \\geq L(\\tilde{x}, \\lambda, v) \\geq \\inf_{x\\in D}L(x, \\lambda, v) = g(\\lambda, v)\n",
    "$$\n",
    "\n",
    "minimizing over all feasible $\\tilde{x}$ gives $p^{\\star} \\geq g(\\lambda, v)$"
   ]
  },
  {
   "cell_type": "markdown",
   "metadata": {},
   "source": [
    "#### Example 01, Standard form LP\n",
    "\n",
    "\\begin{align}\n",
    "\\text{minimize} \\quad &&& c^Tx \\\\\n",
    "\\text{subject to} \\quad &&& -x \\leq 0 \\\\\n",
    "&&& Ax = b\n",
    "\\end{align}\n",
    "\n",
    "**dual function**\n",
    "> * Lagrangian is \n",
    "\\begin{align}\n",
    "L(x, \\lambda, v) &=&& c^Tx + v^T(Ax-b) - \\lambda^Tx \\\\\n",
    "&=&& -b^Tv + (c+A^v-\\lambda)^T x\n",
    "\\end{align}\n",
    "* $L$ is affine in $x$, hence\n",
    "$$\n",
    "g(\\lambda, v) =\\inf_{x}L(x, \\lambda, v) \\left\\{\n",
    "  \\begin{array}{lr}\n",
    "    -b^Tv   && A^Tv - \\lambda +c = 0\\\\\n",
    "    -\\infty && \\text{othervise}\n",
    "  \\end{array}\n",
    "\\right.\n",
    "$$\n"
   ]
  },
  {
   "cell_type": "code",
   "execution_count": 7,
   "metadata": {},
   "outputs": [
    {
     "data": {
      "text/plain": [
       "<matplotlib.patches.Polygon at 0x1174b7cc0>"
      ]
     },
     "execution_count": 7,
     "metadata": {},
     "output_type": "execute_result"
    },
    {
     "data": {
      "image/png": "[encoded data removed]",
      "text/plain": [
       "<matplotlib.figure.Figure at 0x11689b898>"
      ]
     },
     "metadata": {},
     "output_type": "display_data"
    }
   ],
   "source": [
    "%matplotlib inline\n",
    "import numpy as np\n",
    "import matplotlib.pyplot as plt\n",
    "\n",
    "x = np.linspace(-5, 5, 1000)\n",
    "c = 2\n",
    "y = 2 * x\n",
    "A = 5\n",
    "b = 10\n",
    "xx = 10 / A\n",
    "fig, ax = plt.subplots()\n",
    "ax.plot(x, y)\n",
    "ax.axvline(x=xx, color='r', linestyle=\":\")\n",
    "ax.axvspan(0, 5, color='g', alpha=0.2)"
   ]
  },
  {
   "cell_type": "markdown",
   "metadata": {},
   "source": [
    "# Lagrange dual and conjugate function\n",
    "\n",
    "\\begin{align}\n",
    "\\text{minimize} &&\\quad f_0(x)\\\\\n",
    "\\text{subject to} &&\\quad Ax \\leq b \\\\\n",
    "&& Cx = d\n",
    "\\end{align}\n",
    "\n",
    "**dual function**\n",
    "\n",
    "\\begin{align}\n",
    "g(\\lambda, v) &&=& \\inf_{x\\in \\text{dom} f_0} \\left( f_0(x) + \\lambda (Ax -b) + v (Cx-d) \\right) \\\\\n",
    "&&=& \\inf_{x\\in \\text{dom} f_0} \\left( f_0(x) (A^T \\lambda + C^Tv)^T x - b^T\\lambda - d^Tv\\right) \\\\\n",
    "&&=& -f_{0}^{\\ast}(-A^T\\lambda -C^Tv) - b^T\\lambda - d^T\\lambda\n",
    "\\end{align}\n",
    "\n",
    "> * recall definition of conjugate $f^{\\ast}(y)=\\sup_{x\\in \\text{dom } f}(y^Tx - f(x))$\n",
    "* simplifies derivation of dual if conjugate of f_0 is known\n",
    "\n",
    "**Example** Entropy Maximization\n",
    "\n",
    "$$\n",
    "f_0(x) = \\sum_{i=1}^{n} x_i \\log x_i, \\quad f_0^{\\ast}(y) = \\sum_{i=1}^{n} e^{y_i - 1}\n",
    "$$"
   ]
  },
  {
   "cell_type": "markdown",
   "metadata": {},
   "source": [
    "# The dual problem\n",
    "\n",
    "**Lagrange dual problem**\n",
    "\n",
    "\\begin{align}\n",
    "\\text{maximize} &&\\quad& g(\\lambda, v) \\\\\n",
    "\\text{subject to} &&\\quad& \\lambda \\geq 0\n",
    "\\end{align}\n",
    "> * finds best lower bound on $p^{\\star}$, obtained from Lagrange dual function\n",
    "* a convex optimization problem, optimal value denoted $d^*$\n",
    "* $\\lambda, v$ are dual feasible if $\\lambda \\geq 0, (\\lambda, v) \\in \\text{dom} g$\n",
    "* often simplified by making implicit constraint $(\\lambda, v) \\in \\text{dom} g$ explicit\n",
    "\n",
    "\\begin{equation*}\n",
    "\\begin{aligned}[c]\n",
    "\\text{minimize} \\quad& c^Tx&  \\\\\n",
    "\\text{subject to} \\quad& Ax=b& \\\\\n",
    "& x \\geq 0 \\\\\n",
    "\\end{aligned}\n",
    "\\qquad\\Longleftrightarrow\\qquad\n",
    "\\begin{aligned}[c]\n",
    "\\text{maximize} \\quad& -b^Tv&  \\\\\n",
    "\\text{subject to} \\quad& A^Tv+c\\geq 0& \\\\\n",
    "\\end{aligned} \n",
    "\\end{equation*}"
   ]
  },
  {
   "cell_type": "code",
   "execution_count": null,
   "metadata": {},
   "outputs": [],
   "source": []
  }
 ],
 "metadata": {
  "kernelspec": {
   "display_name": "Python 3",
   "language": "python",
   "name": "python3"
  },
  "language_info": {
   "codemirror_mode": {
    "name": "ipython",
    "version": 3
   },
   "file_extension": ".py",
   "mimetype": "text/x-python",
   "name": "python",
   "nbconvert_exporter": "python",
   "pygments_lexer": "ipython3",
   "version": "3.6.3"
  }
 },
 "nbformat": 4,
 "nbformat_minor": 2
}
