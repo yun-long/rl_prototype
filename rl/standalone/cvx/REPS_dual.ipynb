{
 "cells": [
  {
   "cell_type": "markdown",
   "metadata": {},
   "source": [
    "### 1) Episode-based REPS\n",
    "\n",
    "**Optimization Problem**\n",
    "\\begin{align}\n",
    "\\max_{\\pi}  &&&\\int \\pi(\\theta) R(\\theta) d\\theta \\\\\n",
    "\\text{s.t.} &&& D_{KL}(\\pi_{\\theta}, q(\\theta)) = \\int \\pi(\\theta) \\log \\frac{pi(\\theta)}{q(\\theta)} d \\theta - \\epsilon \\leq 0  \\\\\n",
    "&&& \\int \\pi(\\theta) d\\theta - 1 = 0\n",
    "\\end{align}\n",
    "\n",
    "**Lagrange function**\n",
    "$$\n",
    "L(\\pi_{\\theta}, \\lambda, v) = \\int \\pi(\\theta) R(\\theta) d\\theta  + \\lambda^T \\left( \\int \\pi(\\theta) \\log \\frac{pi(\\theta)}{q(\\theta)} d \\theta - \\epsilon \\right) + v^T \\left(\\int \\pi(\\theta) d\\theta - 1 \\right)\n",
    "$$\n",
    "\n"
   ]
  },
  {
   "cell_type": "code",
   "execution_count": null,
   "metadata": {},
   "outputs": [],
   "source": []
  }
 ],
 "metadata": {
  "kernelspec": {
   "display_name": "Python 3",
   "language": "python",
   "name": "python3"
  },
  "language_info": {
   "codemirror_mode": {
    "name": "ipython",
    "version": 3
   },
   "file_extension": ".py",
   "mimetype": "text/x-python",
   "name": "python",
   "nbconvert_exporter": "python",
   "pygments_lexer": "ipython3",
   "version": "3.6.3"
  }
 },
 "nbformat": 4,
 "nbformat_minor": 2
}
